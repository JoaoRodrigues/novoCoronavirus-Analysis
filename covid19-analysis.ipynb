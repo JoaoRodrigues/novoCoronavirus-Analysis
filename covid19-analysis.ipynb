{
 "cells": [
  {
   "cell_type": "code",
   "execution_count": null,
   "metadata": {},
   "outputs": [],
   "source": [
    "%matplotlib inline\n",
    "from matplotlib import pyplot as plt\n",
    "import urllib.request\n",
    "import numpy as np\n",
    "import pandas as pd\n",
    "from statsmodels.nonparametric.smoothers_lowess import lowess"
   ]
  },
  {
   "cell_type": "code",
   "execution_count": null,
   "metadata": {},
   "outputs": [],
   "source": [
    "# Load dataset from Johns Hopkins website\n",
    "def load_url_as_df(url):\n",
    "    \"\"\"Loads csv data from a remote URL as a pandas Dataframe\"\"\"\n",
    "    \n",
    "    with urllib.request.urlopen(url) as stream:\n",
    "        return pd.read_csv(stream, index_col='Country/Region')"
   ]
  },
  {
   "cell_type": "code",
   "execution_count": null,
   "metadata": {},
   "outputs": [],
   "source": [
    "url = 'https://raw.githubusercontent.com/CSSEGISandData/COVID-19/master/csse_covid_19_data/csse_covid_19_time_series/time_series_19-covid-Confirmed.csv'\n",
    "df_confirmed = load_url_as_df(url)\n",
    "df_confirmed.head()"
   ]
  },
  {
   "cell_type": "code",
   "execution_count": null,
   "metadata": {},
   "outputs": [],
   "source": [
    "class TimeSeries:\n",
    "    \"\"\"TimeSeries\n",
    "    \n",
    "    Parameters\n",
    "    ----------\n",
    "    tseries: 1D array,\n",
    "        the time-series as a 1D array\n",
    "    t_origin: int,\n",
    "        the time-stamp for the origin of the time-series. Default: 54\n",
    "    \n",
    "    Attributes\n",
    "    ----------\n",
    "    change_ratio: 1D array, length of tseries - 1\n",
    "        the value of the time-series on given day, divided by value on day -1.\n",
    "        mode: {'cumulative','cumulative_smooth'} controls whether change_ratio \n",
    "            is applied on raw or smoothed time-series\n",
    "    smooth: 1D array\n",
    "        LOWESS smoothed time-series.\n",
    "        frac: 0.15 (default)\n",
    "        it  : 0    (default)\n",
    "    \"\"\"\n",
    "    def __init__(self, tseries, t_origin=54):\n",
    "        self.tseries = tseries\n",
    "        self.tstamps = np.arange(t_origin, tseries.shape[0]+t_origin)\n",
    "        \n",
    "    def change_ratio(self, mode='cumulative'):\n",
    "        \"\"\"change_ratio: value today divided by value yesterday\n",
    "        Arguments:\n",
    "        =========\n",
    "        mode: - cumulative (default) uses the input cumulative time-series\n",
    "              - cumulative_smooth first smoothes the input cumulative time-series\n",
    "        \"\"\"\n",
    "        if(mode=='cumulative'):\n",
    "            data = self.tseries\n",
    "        elif(mode=='cumulative_smooth'):\n",
    "            data = self.smooth()\n",
    "        today = np.copy(data)[1:]\n",
    "        yesterday = np.copy(data[np.arange(data.size-1)])\n",
    "        return today/yesterday\n",
    "    \n",
    "    def smooth(self, frac=0.15, it=0): \n",
    "        \"\"\"smoothen a time-series using LOWESS\n",
    "        https://www.statsmodels.org/stable/generated/statsmodels.nonparametric.smoothers_lowess.lowess.html\n",
    "        \"\"\"\n",
    "        tseries_smooth = lowess(self.tseries, self.tstamps, frac=frac, it=it)\n",
    "        return tseries_smooth[:,1]"
   ]
  },
  {
   "cell_type": "code",
   "execution_count": null,
   "metadata": {},
   "outputs": [],
   "source": [
    "toto = TimeSeries(confirmed_total.values)\n",
    "tstamps              = toto.tstamps\n",
    "tseries              = toto.tseries\n",
    "tseries_smoothened   = toto.smooth()\n",
    "tseries_change_ratio = toto.change_ratio()\n",
    "smooth_change_ratio  = toto.change_ratio(mode='cumulative_smooth')"
   ]
  },
  {
   "cell_type": "code",
   "execution_count": null,
   "metadata": {},
   "outputs": [],
   "source": [
    "fig, (ax1,ax2) = plt.subplots(1,2,figsize=(8,4), dpi=180)\n",
    "ax1.plot(tstamps, tseries, 'o', label='data', )\n",
    "ax1.plot(tstamps, tseries_smoothened, '.-', label='smoothened')\n",
    "ax1.set_xlabel('Days since first case')\n",
    "ax1.set_ylabel('Confirmed cases')\n",
    "ax1.grid()\n",
    "ax1.legend()\n",
    "ax2.plot(tstamps[1:], tseries_change_ratio, 'o', label='data', )\n",
    "ax2.plot(tstamps[1:], smooth_change_ratio, '.-', label='smoothened')\n",
    "ax2.set_xlabel('Days since first case')\n",
    "ax2.set_ylabel('Confirmed cases (change ratio)')\n",
    "ax2.grid()\n",
    "ax2.legend()\n",
    "plt.tight_layout()\n",
    "plt.show()"
   ]
  },
  {
   "cell_type": "code",
   "execution_count": null,
   "metadata": {},
   "outputs": [],
   "source": []
  },
  {
   "cell_type": "code",
   "execution_count": null,
   "metadata": {},
   "outputs": [],
   "source": []
  }
 ],
 "metadata": {
  "kernelspec": {
   "display_name": "Python 3",
   "language": "python",
   "name": "python3"
  },
  "language_info": {
   "codemirror_mode": {
    "name": "ipython",
    "version": 3
   },
   "file_extension": ".py",
   "mimetype": "text/x-python",
   "name": "python",
   "nbconvert_exporter": "python",
   "pygments_lexer": "ipython3",
   "version": "3.6.7"
  }
 },
 "nbformat": 4,
 "nbformat_minor": 2
}
